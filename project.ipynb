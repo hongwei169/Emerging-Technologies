{
 "cells": [
  {
   "cell_type": "markdown",
   "metadata": {},
   "source": [
    "# Emerging Technologies Project \n",
    "---\n",
    "## Hong Wei Phang -- G00388774"
   ]
  },
  {
   "cell_type": "markdown",
   "metadata": {},
   "source": [
    "# Section 1: Introduction to Deutsch's Algorithm\n",
    "\n",
    "Quantum computing represents a revolutionary approach to computation, harnessing quantum mechanics to achieve processing power beyond the capabilities of classical computers. A quantum bit, or qubit, is the fundamental unit of quantum information, analogous to a bit in classical computing. Unlike bits, which are binary, qubits can exist in multiple states simultaneously due to the principle of superposition.\n",
    "\n",
    "In 1985, David Deutsch proposed what is now known as Deutsch's Algorithm, which addressed a simple problem through a quantum lens: determining if a hidden binary function is constant (the same output for all inputs) or balanced (outputs half 0s and half 1s). Classical logic dictates that two queries to the function are needed to determine this, but Deutsch's Algorithm could ascertain the answer with a single quantum operation.\n",
    "\n",
    "This algorithm not only marked the inception of quantum algorithms but also laid the groundwork for quantum computational theory, influencing the development of more sophisticated algorithms. It uses quantum gates to manipulate qubits, exploiting superposition and interference, and culminates in a measurement that, counterintuitively, provides complete information about the global nature of the function.\n",
    "\n",
    "In this section, we will explore the origins and implications of Deutsch's Algorithm, understand the fundamental quantum computing concepts it employs, and prepare to delve into its implementation with Qiskit.\n",
    "\n",
    "\n"
   ]
  },
  {
   "cell_type": "markdown",
   "metadata": {},
   "source": [
    "# Section 2: Detailed Explanation of Deutsch's Algorithm\n",
    "\n",
    "Deutsch's Algorithm solves a specific problem in quantum computation known as the Deutsch problem. It determines if a given quantum function, encoded as an oracle, is constant or balanced with only one query. This contrasts with the classical approach, which requires checking both possible inputs.\n",
    "\n",
    "The algorithm uses the following steps:\n",
    "\n",
    "1. Initialize the qubits: Start with two qubits, the first in state `|0⟩` and the second in state `|1⟩`.\n",
    "\n",
    "2. Apply Hadamard gates: Apply a Hadamard gate to both qubits to create a superposition of states.\n",
    "\n",
    "3. Apply the oracle: Introduce the quantum oracle, which performs a specific unitary transformation based on the function being evaluated.\n",
    "\n",
    "4. Apply Hadamard gate again: Apply another Hadamard gate to the first qubit, which leads to interference patterns that are key to the algorithm.\n",
    "\n",
    "5. Measure the first qubit: The measurement will collapse the first qubit into one of the basis states, `|0⟩` or `|1⟩`, indicating whether the function is constant or balanced.\n",
    "\n",
    "The quantum oracle is the heart of the algorithm. It is a black box that performs a specific transformation on the qubits. For a constant function, it leaves them unchanged or flips them both. For a balanced function, it flips the second qubit conditional on the first qubit being in state `|1⟩`.\n",
    "\n",
    "Here is a table illustrating the function types and their outputs:"
   ]
  },
  {
   "cell_type": "markdown",
   "metadata": {},
   "source": [
    "\n",
    "| Function Type    | $x=0$ | $x=1$ | \n",
    "| ---------------- | ----- | ----- |\n",
    "| Constant (0)     | 0     | 0     | \n",
    "| Constant (1)     | 1     | 1     | \n",
    "| Balanced (0 ↦ 1) | 0     | 1     | \n",
    "| Balanced (1 ↦ 0) | 1     | 0     |"
   ]
  },
  {
   "cell_type": "markdown",
   "metadata": {},
   "source": [
    "Below are the plot of the quantum circuit  using Qiskit's `circuit_drawer` function, which will provide a visual representation of the algorithm."
   ]
  },
  {
   "cell_type": "code",
   "execution_count": 18,
   "metadata": {},
   "outputs": [
    {
     "data": {
      "image/png": "[encoded data removed]",
      "text/plain": [
       "<Figure size 621.739x284.278 with 1 Axes>"
      ]
     },
     "execution_count": 18,
     "metadata": {},
     "output_type": "execute_result"
    }
   ],
   "source": [
    "# Importing libraries for generating the circuits\n",
    "import numpy as np\n",
    "from qiskit import QuantumCircuit\n",
    "from qiskit import Aer, transpile\n",
    "from qiskit.tools.visualization import plot_histogram, plot_state_city\n",
    "import qiskit.quantum_info as qi\n",
    "\n",
    "# Function to create a quantum circuit for Deutsch's Algorithm\n",
    "def deutsch_circuit(oracle):\n",
    "    qc = QuantumCircuit(2, 1)  # 2 qubits and 1 classical bit for measurement\n",
    "\n",
    "    # Initialize the second qubit to |1>\n",
    "    qc.x(1)\n",
    "\n",
    "    # Apply Hadamard gates to both qubits\n",
    "    qc.h([0, 1])\n",
    "\n",
    "    # Apply the oracle\n",
    "    qc.append(oracle, [0, 1])\n",
    "\n",
    "    # Apply another Hadamard gate to the first qubit\n",
    "    qc.h(0)\n",
    "\n",
    "    # Measure the first qubit\n",
    "    qc.measure(0, 0)\n",
    "\n",
    "    return qc\n",
    "\n",
    "# Define an example oracle\n",
    "example_oracle = QuantumCircuit(2)\n",
    "# Here you can add operations to example_oracle to represent a specific function\n",
    "# For example, let's add a CNOT gate for demonstration\n",
    "example_oracle.cx(0, 1)\n",
    "\n",
    "# Create the circuit\n",
    "qc = deutsch_circuit(example_oracle)\n",
    "\n",
    "# Draw the circuit with the new default style\n",
    "qc.draw(output='mpl', style='iqp')\n"
   ]
  },
  {
   "cell_type": "markdown",
   "metadata": {},
   "source": [
    "### The explanation of the circuit\n",
    "\n",
    "1. Qutbits Initialization: \n",
    "- There are two qubits, $q_0$ and $q_1$.\n",
    "- $q_0$ is initialized to $|0\\rangle$.\n",
    "- $q_1$ is initialized to $|1\\rangle$ using the `X` gate (also known as NOT gate).This is because Deutsch's algorithm requires the second qubit to be in state $|1\\rangle$."
   ]
  },
  {
   "cell_type": "markdown",
   "metadata": {},
   "source": [
    "2. Hadamard Gate Application:\n",
    "- Hadamard `(H)` gates are applied to both qubits. The Hadamard gate transforms the qubits into a superposition of states.\n",
    "- For $q_0$, it changes the state from $|0\\rangle$ to $\\frac{(|0\\rangle + |1\\rangle)}{\\sqrt{2}}$, creating a superposition of both computational basis states.$$H|0\\rangle = \\frac{(|0\\rangle + |1\\rangle)}{\\sqrt{2}}$$ \n",
    "- For $q_1$, it transforms the state from $|1\\rangle$ to $\\frac{(|0\\rangle - |1\\rangle)}{\\sqrt{2}}$,  which is a superposition with a phase difference between the states..$$H|1\\rangle = \\frac{(|0\\rangle - |1\\rangle)}{\\sqrt{2}}$$"
   ]
  },
  {
   "cell_type": "markdown",
   "metadata": {},
   "source": [
    "3. Oracle Application:\n",
    "- The `circuit` box represents the oracle. In the context of Deutsch's Algorithm, the oracle is a black-box operation that performs a certain function on the qubits.\n",
    "- The oracle is applied to both qubits. The function it performs depends on the type of function we are evaluating.\n",
    "- For a constant function, the function will transform the state to return the state `0` as the output. \n",
    "- For a balanced function, the function will flip all the bits in the input to return the state `1` as the output."
   ]
  },
  {
   "cell_type": "markdown",
   "metadata": {},
   "source": [
    "4. The Second Hadamard Gate on $q_0$:\n",
    "- After the oracle is applied, another Hadamard gate is applied to $q_0$. This second Hadamard gate is crucial because it interferes the two paths that the superposition has evolved into due to the oracle's operation."
   ]
  },
  {
   "cell_type": "markdown",
   "metadata": {},
   "source": [
    "5. Measurement:\n",
    "- The final step is to measure the qubits. The measurement will collapse the qubits into one of the basis states, $|0\\rangle$ or $|1\\rangle$.\n",
    "- The measurement of $q_0$ will return the state $|0\\rangle$ if the function is constant, and $|1\\rangle$ if the function is balanced."
   ]
  },
  {
   "cell_type": "markdown",
   "metadata": {},
   "source": [
    "In the simulation section, we will see how these theoretical steps translate into a quantum circuit and how the measurement confirms the nature of the oracle's function.\n",
    "\n"
   ]
  },
  {
   "cell_type": "markdown",
   "metadata": {},
   "source": [
    "# Section 3: Implementation and Simulation of Deutsch's Algorithm\n",
    "\n",
    "In this section, we implement Deutsch's Algorithm using Qiskit, a framework for quantum computing. We'll create a quantum circuit that represents the algorithm, define both constant and balanced oracles, and then simulate the circuit to observe its behavior.\n",
    "\n",
    "## Implementation in Qiskit\n",
    "\n",
    "The implementation involves setting up a quantum circuit with two qubits and one classical bit. The first qubit is used to encode the input and the second qubit as an ancillary qubit. We apply Hadamard gates to both qubits to create a superposition, then apply the oracle, followed by another Hadamard gate on the first qubit. The measurement of the first qubit will reveal the nature of the oracle.\n",
    "\n",
    "## Simulation\n",
    "\n",
    "Using Qiskit's Aer simulator, we can test our circuit for different oracles. We expect that the measurement will collapse the first qubit into the state `|0⟩` for constant oracles and `|1⟩` for balanced oracles, demonstrating the algorithm's efficacy.\n",
    "\n",
    "## Python Code for Deutsch's Algorithm\n",
    "\n",
    "\n"
   ]
  },
  {
   "cell_type": "code",
   "execution_count": 2,
   "metadata": {},
   "outputs": [],
   "source": [
    "#import qiskit if not already installed\n",
    "# %pip install qiskit-aer"
   ]
  },
  {
   "cell_type": "code",
   "execution_count": 3,
   "metadata": {},
   "outputs": [],
   "source": [
    "# Import necessary libraries\n",
    "from qiskit import QuantumCircuit, Aer, execute\n",
    "from qiskit.visualization import plot_histogram\n"
   ]
  },
  {
   "cell_type": "markdown",
   "metadata": {},
   "source": [
    "This part imports the necessary modules from Qiskit:\n",
    "\n",
    "- `QuantumCircuit` is used to create quantum circuits.\n",
    "- `Aer` is the module for simulating quantum circuits.\n",
    "- `execute` is a function that runs the quantum circuit on a specified backend (like a simulator).\n",
    "- `plot_histogram` is used for visualizing the measurement results.\n"
   ]
  },
  {
   "cell_type": "markdown",
   "metadata": {},
   "source": [
    "### Defining the Deutsch's Algorithm Circuit"
   ]
  },
  {
   "cell_type": "code",
   "execution_count": 8,
   "metadata": {},
   "outputs": [],
   "source": [
    "# Function to create the Deutsch's algorithm circuit\n",
    "def deutsch_circuit(oracle):\n",
    "    # Creating a quantum circuit with 2 qubits and 1 classical bit\n",
    "    qc = QuantumCircuit(2, 1)\n",
    "\n",
    "    # Initialize the second qubit to |1>\n",
    "    qc.x(1)  \n",
    "\n",
    "    # Apply Hadamard gates to both qubits\n",
    "    qc.h([0, 1])\n",
    "\n",
    "    # Apply the oracle\n",
    "    qc.append(oracle, [0, 1])\n",
    "\n",
    "    # Apply Hadamard gate on the first qubit\n",
    "    qc.h(0)\n",
    "\n",
    "    # Measure the first qubit\n",
    "    qc.measure(0, 0)\n",
    "\n",
    "    return qc"
   ]
  },
  {
   "cell_type": "markdown",
   "metadata": {},
   "source": [
    "The `deutsch_circuit` function creates a quantum circuit for Deutsch's Algorithm:\n",
    "- It uses 2 qubits and 1 classical bit. The first qubit is for querying the oracle; the second is an ancillary qubit.\n",
    "- Hadamard gates create a superposition of qubit states.\n",
    "- The `oracle` is a quantum circuit representing either a constant or balanced function.\n",
    "- Another Hadamard gate on the first qubit and its subsequent measurement conclude the algorithm.\n"
   ]
  },
  {
   "cell_type": "markdown",
   "metadata": {},
   "source": [
    "### Setting Up Constant and Balanced Oracles"
   ]
  },
  {
   "cell_type": "code",
   "execution_count": 9,
   "metadata": {},
   "outputs": [
    {
     "data": {
      "text/plain": [
       "<qiskit.circuit.instructionset.InstructionSet at 0x1f9d5bdf880>"
      ]
     },
     "execution_count": 9,
     "metadata": {},
     "output_type": "execute_result"
    }
   ],
   "source": [
    "# Define a constant oracle (e.g., an oracle that does nothing)\n",
    "constant_oracle = QuantumCircuit(2)\n",
    "# No gates added means the oracle does nothing, it's an identity operation\n",
    "\n",
    "# Define a balanced oracle (e.g., an oracle that flips the output for one input)\n",
    "balanced_oracle = QuantumCircuit(2)\n",
    "# Applying a CNOT gate; if the first qubit is |1>, it will flip the second qubit\n",
    "balanced_oracle.cx(0, 1)\n"
   ]
  },
  {
   "cell_type": "markdown",
   "metadata": {},
   "source": [
    "These lines initialize circuits for the oracles:\n",
    "- `constant_oracle` for a constant function.\n",
    "- `balanced_oracle` for a balanced function.\n",
    "- Specific gates defining these oracles should be added to these circuits.\n"
   ]
  },
  {
   "cell_type": "markdown",
   "metadata": {},
   "source": [
    "### Simulation for Constant Oracle"
   ]
  },
  {
   "cell_type": "code",
   "execution_count": 10,
   "metadata": {},
   "outputs": [
    {
     "data": {
      "image/png": "[encoded data removed]",
      "text/plain": [
       "<Figure size 700x500 with 1 Axes>"
      ]
     },
     "execution_count": 10,
     "metadata": {},
     "output_type": "execute_result"
    }
   ],
   "source": [
    "# Create and simulate the circuit for a constant oracle\n",
    "constant_circuit = deutsch_circuit(constant_oracle)\n",
    "simulator = Aer.get_backend('qasm_simulator')\n",
    "result = execute(constant_circuit, simulator, shots=1024).result()\n",
    "counts = result.get_counts()\n",
    "plot_histogram(counts)"
   ]
  },
  {
   "cell_type": "markdown",
   "metadata": {},
   "source": [
    "This code simulates Deutsch's Algorithm with the constant oracle:\n",
    "- The circuit is created and executed on a simulator.\n",
    "- The simulation is run multiple times (1024 shots).\n",
    "- Measurement outcomes are visualized in a histogram.\n",
    "\n",
    "\n",
    "We should see a histogram with all measurements resulting in `|0⟩` . This indicates that the oracle is constant, which is expected."
   ]
  },
  {
   "cell_type": "markdown",
   "metadata": {},
   "source": [
    "### Simulation for Balanced Oracle"
   ]
  },
  {
   "cell_type": "code",
   "execution_count": 11,
   "metadata": {},
   "outputs": [
    {
     "data": {
      "image/png": "[encoded data removed]",
      "text/plain": [
       "<Figure size 700x500 with 1 Axes>"
      ]
     },
     "execution_count": 11,
     "metadata": {},
     "output_type": "execute_result"
    }
   ],
   "source": [
    "# Create and simulate the circuit for a balanced oracle\n",
    "balanced_circuit = deutsch_circuit(balanced_oracle)\n",
    "result = execute(balanced_circuit, simulator, shots=1024).result()\n",
    "counts = result.get_counts()\n",
    "plot_histogram(counts)"
   ]
  },
  {
   "cell_type": "markdown",
   "metadata": {},
   "source": [
    "Similarly, this part simulates the algorithm with the balanced oracle:\n",
    "- The process is identical to that for the constant oracle.\n",
    "\n",
    "Given that we're seeing the second histogram with all measurements resulting in `|1⟩`, this means that our balanced oracle is correctly causing the algorithm to identify the function as balanced."
   ]
  },
  {
   "cell_type": "markdown",
   "metadata": {},
   "source": [
    "### Summary\n",
    "\n",
    "This code implements Deutsch's Algorithm in Qiskit, demonstrating how it distinguishes between constant and balanced oracles with a single query. Histograms visually represent the output, confirming the nature of the function encoded in the oracle.\n",
    "\n"
   ]
  },
  {
   "cell_type": "markdown",
   "metadata": {},
   "source": [
    "\n",
    "# Section 4: Analysis and Interpretation of Results\n",
    "\n",
    "Having implemented and simulated Deutsch's Algorithm for both constant and balanced oracles, we now analyze and interpret the results to validate the algorithm's functionality.\n",
    "\n",
    "## Analysis of Simulation Results\n",
    "\n",
    "The key to Deutsch's Algorithm is how the quantum interference pattern, caused by the Hadamard gates and the oracle, reveals the nature of the function encoded in the oracle. For a constant oracle, regardless of its output being always 0 or always 1, the final measurement of the first qubit will be `|0⟩`. For a balanced oracle, this measurement will be `|1⟩`.\n",
    "\n",
    "## Interpretation of the Results\n",
    "\n",
    "In our simulations, we executed the circuit with both types of oracles and observed the measurement outcomes. The histogram plots show the distribution of these outcomes over many repetitions (shots) of the experiment.\n",
    "\n",
    "In Deutsch's Algorithm:\n",
    "\n",
    "- If the function encoded by the oracle is constant, the measurement of the first qubit after the algorithm is applied should always result in the state `|0⟩`.\n",
    "- If the function is balanced, the measurement of the first qubit should always result in the state `|1⟩`.\n",
    "\n",
    "These results confirm that with a single query to the oracle, Deutsch's Algorithm can successfully determine whether the function is constant or balanced, showcasing an exponential speed-up over classical deterministic algorithms.\n",
    "\n",
    "## Practical Implications\n",
    "\n",
    "The results from Deutsch's Algorithm demonstrate the potential of quantum computing to solve certain problems more efficiently than classical computing. This algorithm, while theoretically simple, lays the foundation for more complex quantum algorithms and highlights the unique advantages of quantum parallelism and interference.\n",
    "\n",
    "In practical terms, these principles are the cornerstone of more advanced quantum algorithms that hold promise for significant advancements in fields such as cryptography, optimization, and simulation of quantum systems.\n",
    "\n"
   ]
  },
  {
   "cell_type": "markdown",
   "metadata": {},
   "source": [
    "## References \n",
    "\n",
    "1. Deutsch, D. (1985). Quantum theory, the Church-Turing principle and the universal quantum computer. *Proceedings of the Royal Society of London. Series A. Mathematical and Physical Sciences*, 400(1818), 97–117. https://royalsocietypublishing.org/doi/epdf/10.1098/rspa.1985.0070\n",
    "2. Nielsen, M. A., & Chuang, I. L. (2010). *Quantum Computation and Quantum Information*. Cambridge University Press.\n",
    "3. Mermin, N. D. (2007). *Quantum Computer Science: An Introduction*. Cambridge University Press.\n",
    "4. Jozsa, R., & Linden, N. (2003). On the role of entanglement in quantum-computational speed-up. *Proceedings of the Royal Society of London. Series A: Mathematical, Physical and Engineering Sciences*, 459(2036), 2011-2032.\n",
    "5. Shor, P. W. (1997). Polynomial-Time Algorithms for Prime Factorization and Discrete Logarithms on a Quantum Computer. *SIAM Journal on Computing*, 26(5), 1484–1509.\n",
    "6. Cleve, R., Ekert, A., Macchiavello, C., & Mosca, M. (1998). Quantum algorithms revisited. *Proceedings of the Royal Society of London. Series A: Mathematical, Physical and Engineering Sciences*, 454(1969), 339-354.\n",
    "7. QuantumComputing(CSTPart II) Lecture7:Deutsch-Jozsaalgorithm. https://www.cl.cam.ac.uk/teaching/1920/QuantComp/Quantum_Computing_Lecture_7.pdf\n",
    "8. Christophe Pere (2022). Deutsch-Jozsa, or How to Evaluate a Balanced Function. https://pere-christophe.medium.com/deutsch-jozsa-or-how-to-evaluate-a-balanced-function-b19fe0711187"
   ]
  },
  {
   "cell_type": "markdown",
   "metadata": {},
   "source": [
    "# Video Learning\n",
    "\n",
    "1. Deutsch's Algorithm: An Introduction to Quantum Computing Oracles. https://youtu.be/7MdEHsRZxvo?si=787ceGEbr9jKQr9k"
   ]
  },
  {
   "cell_type": "markdown",
   "metadata": {},
   "source": [
    "---\n",
    "\n",
    "# End of Project"
   ]
  }
 ],
 "metadata": {
  "kernelspec": {
   "display_name": "base",
   "language": "python",
   "name": "python3"
  },
  "language_info": {
   "codemirror_mode": {
    "name": "ipython",
    "version": 3
   },
   "file_extension": ".py",
   "mimetype": "text/x-python",
   "name": "python",
   "nbconvert_exporter": "python",
   "pygments_lexer": "ipython3",
   "version": "3.9.13"
  }
 },
 "nbformat": 4,
 "nbformat_minor": 2
}
