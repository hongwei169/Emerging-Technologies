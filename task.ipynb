{
 "cells": [
  {
   "attachments": {
    "image.png": {
     "image/png": "[encoded data removed]"
    }
   },
   "cell_type": "markdown",
   "metadata": {},
   "source": [
    "# Task 1: Collatz Conjecture\n",
    "## Date: 28 September 2023\n",
    "### Author: Hong Wei Phang\n",
    "\n",
    "### Introduction:\n",
    "The Collatz conjecture is a famous unsolved problem in mathematics. The problem is to prove that if you start with any positive integer x and repeatedly apply the function f(x) below, you always get to 1 eventually.\n",
    "\n",
    "![image.png](attachment:image.png)\n",
    "\n",
    "For example, starting with the value  10, which is an even number, we divide it by 2 to get 5. We repeat the process, and since 5 is odd, we multiply by 3 and add 1 to get 16. We divide by 2 successively to get 8, 4, 2 and 1. We needed to multiply by 3 and add 1 only once, but it is possible that f(x) will need to be applied more than once to some numbers, for example f(15) = 46, f(46) = 23.\n",
    "### Problem Statement:\n",
    "-Using Python to verify, that the Collatz conjecture is true for all integers between 1 and 1000000.\n",
    "\n",
    "### Import necessary libraries (if any):\n",
    "```python\n",
    "# import numpy as np\n",
    "# import matplotlib.pyplot as plt\n"
   ]
  },
  {
   "cell_type": "code",
   "execution_count": 8,
   "metadata": {},
   "outputs": [
    {
     "name": "stdout",
     "output_type": "stream",
     "text": [
      "The Collatz conjecture is true for all numbers in the specified range.\n"
     ]
    }
   ],
   "source": [
    "def collatz_sequence(n):\n",
    "    sequence = [n]\n",
    "    while n != 1:\n",
    "        if n % 2 == 0:\n",
    "            n = n // 2\n",
    "        else:\n",
    "            n = 3 * n + 1\n",
    "        sequence.append(n)\n",
    "    return sequence\n",
    "\n",
    "def verify_collatz_conjecture(start, end):\n",
    "    failed_cases = []\n",
    "    for num in range(start, end + 1):\n",
    "        sequence = collatz_sequence(num)\n",
    "        if sequence[-1] != 1:\n",
    "            failed_cases.append(num)\n",
    "    return failed_cases\n",
    "\n",
    "# Define the range you want to check\n",
    "start_number = 1\n",
    "end_number = 1000  # You can adjust this range as needed\n",
    "\n",
    "failed_cases = verify_collatz_conjecture(start_number, end_number)\n",
    "\n",
    "if not failed_cases:\n",
    "    print(\"The Collatz conjecture is true for all numbers in the specified range.\")\n",
    "else:\n",
    "    print(\"The Collatz conjecture is not true for the following numbers:\")\n",
    "    print(failed_cases)\n"
   ]
  },
  {
   "cell_type": "markdown",
   "metadata": {},
   "source": [
    "#### Collatz Conjecture Verification Code Explanation\n",
    "\n",
    "##### `collatz_sequence(n)` Function:\n",
    "\n",
    "- This function generates the Collatz sequence starting from a given number `n`.\n",
    "- It utilizes a `while` loop to repeatedly apply the Collatz rules until the sequence reaches 1.\n",
    "- The sequence is stored in a list, and the function returns this list.\n",
    "\n",
    "##### `verify_collatz_conjecture(start, end)` Function:\n",
    "\n",
    "- This function checks the Collatz conjecture for a specified range of numbers, defined by `start` and `end`.\n",
    "- It initializes an empty list to collect cases where the conjecture fails.\n",
    "- It iterates through the range, generates the Collatz sequence for each number, and examines whether the last number in the sequence is not 1. If the last number is not 1, it means the conjecture fails for that number, and it is added to the list of failed cases.\n",
    "- The function returns the list of failed cases.\n",
    "\n",
    "##### `start_number` and `end_number`:\n",
    "\n",
    "- These variables specify the range of numbers to be checked for the Collatz conjecture. In the provided code, the range is set to verify the conjecture for numbers between 1 and 1000.\n",
    "\n",
    "##### Execution:\n",
    "\n",
    "- The code executes the `verify_collatz_conjecture` function with the defined range.\n",
    "- It checks if there are any failed cases and prints the results accordingly. If there are no failed cases, it indicates that the Collatz conjecture holds true for all numbers in the specified range. If there are failed cases, it lists those numbers for which the conjecture does not hold.\n",
    "\n",
    "---\n"
   ]
  },
  {
   "attachments": {
    "image.png": {
     "image/png": "[encoded data removed]"
    }
   },
   "cell_type": "markdown",
   "metadata": {},
   "source": [
    "# Task 2: Calculating square roots\n",
    "## Date: 22 October 2023\n",
    "### Author: Hong Wei Phang\n",
    "\n",
    "### Introduction:\n",
    "Square roots are difficult to calculate. In Python, you typically use the power operator (a double asterisk) or a package such as math. \n",
    "\n",
    "\n",
    "\n",
    "### Problem Statement:\n",
    "-write a function sqrt(x) to approximate the square root of a floating point number x without using the power operator or a package. Rather, you should use the Newton’s method. Start with an Initial guess for the square root called z0. You then repeatedly apply the following formula. until the difference between some previous guess zi and the next zi+1\n",
    "\n",
    "![image.png](attachment:image.png)\n",
    "\n",
    "### Import necessary libraries (if any):\n",
    "```python\n",
    "# import numpy as np\n",
    "# import matplotlib.pyplot as plt\n"
   ]
  },
  {
   "cell_type": "code",
   "execution_count": 9,
   "metadata": {},
   "outputs": [
    {
     "name": "stdout",
     "output_type": "stream",
     "text": [
      "Approximate square root of 16.0 is 4.000000\n",
      "Approximate square root of 8.0 is 2.828427\n",
      "Approximate square root of 0.0001 is 0.010000\n"
     ]
    }
   ],
   "source": [
    "def sqrt(x, z0=1.0, tolerance=1e-6, max_iterations=100):\n",
    "    \"\"\"\n",
    "    Approximate the square root of a number using Newton's method.\n",
    "\n",
    "    Args:\n",
    "    x (float): The number for which to find the square root.\n",
    "    z0 (float): Initial guess for the square root (default is 1.0).\n",
    "    tolerance (float): The desired level of accuracy (default is 1e-6).\n",
    "    max_iterations (int): Maximum number of iterations (default is 100).\n",
    "\n",
    "    Returns:\n",
    "    float: The approximate square root of x.\n",
    "    \"\"\"\n",
    "    z = z0\n",
    "    for i in range(max_iterations):\n",
    "        z_next = 0.5 * (z + x / z)  # Newton's method formula\n",
    "        if abs(z_next - z) < tolerance:\n",
    "            return z_next\n",
    "        z = z_next\n",
    "    return z  # Return the best approximation found\n",
    "\n",
    "# Example usage:\n",
    "x = 16.0\n",
    "approx_root = sqrt(x)\n",
    "print(f\"Approximate square root of {x} is {approx_root:.6f}\")\n",
    "\n",
    "x = 8.0\n",
    "approx_root = sqrt(x)\n",
    "print(f\"Approximate square root of {x} is {approx_root:.6f}\")\n",
    "\n",
    "x = 0.0001\n",
    "approx_root = sqrt(x)\n",
    "print(f\"Approximate square root of {x} is {approx_root:.6f}\")\n"
   ]
  },
  {
   "cell_type": "markdown",
   "metadata": {},
   "source": [
    "#### `sqrt` Function Summary\n",
    "\n",
    "The `sqrt` function is used to approximate the square root of a number using Newton's method. It takes the following parameters:\n",
    "\n",
    "- `x`: The number for which to find the square root.\n",
    "- `z0`: An initial guess for the square root (default is 1.0).\n",
    "- `tolerance`: The desired level of accuracy (default is 1e-6).\n",
    "- `max_iterations`: The maximum number of iterations (default is 100).\n",
    "\n",
    "The function iteratively applies Newton's method formula to improve the approximation of the square root.\n",
    "\n",
    "It checks if the absolute difference between the current guess `z` and the next guess `z_next` is smaller than the specified tolerance. If the condition is met, the function returns the approximation as accurate as possible. If the maximum number of iterations is reached without achieving the desired accuracy, it returns the best approximation found thus far.\n",
    "\n",
    "#### Example Usage\n",
    "\n",
    "To approximate the square root of a given number, you can use the `sqrt` function by specifying the value of `x`. For instance:\n",
    "\n",
    "```python\n",
    "x = 16.0\n",
    "approx_root = sqrt(x)\n",
    "print(f\"Approximate square root of {x} is {approx_root:.6f}\")\n",
    "```\n",
    "---"
   ]
  },
  {
   "cell_type": "markdown",
   "metadata": {},
   "source": [
    "# Task 3: Reverse Engineering Functions\n",
    "## Date: 11-11-2023\n",
    "### Author: Hong Wei Phang\n",
    "\n",
    "### Introduction:\n",
    "Consider all possible functions taking four bits as input and outputting a single bit. How many such functions are there?\n",
    "\n",
    "\n",
    "### Problem Statement:\n",
    "-Write Python code to select one such function at random out of all the possibilities.Suppose the only way you can figure out what the function is, is by calling it with different inputs and checking the outputs.How many times do you need to call the function to be certain which function it is?\n",
    "\n",
    "To answer this question, we need to break it down into parts:\n",
    "\n",
    "### 1. Number of Functions\n",
    "\n",
    "A function that takes four bits as input and outputs a single bit can be thought of as mapping each of the `2^4` possible input combinations to a 0 or a 1. There are `2^4 = 16` possible inputs (since each of the four input bits can be either 0 or 1), and for each input, there are two possible outputs (0 or 1). Therefore, the total number of such functions is `2^(2^4) = 2^16` (65536).\n",
    "\n",
    "\n",
    "### 2. Selecting a Random Function\n",
    "\n",
    "To select one such function at random, we can represent each function as a 16-bit number, where each bit corresponds to the output of the function for each of the 16 possible inputs. We can generate a random 16-bit number to represent this function.\n",
    "\n",
    "\n",
    "### 3. Determining the Function\n",
    "\n",
    "To be certain which function it is, you need to call the function with all possible inputs. Since there are 16 possible inputs, you need to call the function 16 times.\n",
    "\n",
    "Now, let's write Python code to select a random function and determine the number of calls needed.\n",
    "\n",
    "\n"
   ]
  },
  {
   "cell_type": "code",
   "execution_count": 7,
   "metadata": {},
   "outputs": [
    {
     "name": "stdout",
     "output_type": "stream",
     "text": [
      "Input: (0, 0, 0, 0), Output: 0\n",
      "Input: (0, 0, 0, 1), Output: 1\n",
      "Input: (0, 0, 1, 0), Output: 1\n",
      "Input: (0, 0, 1, 1), Output: 0\n",
      "Input: (0, 1, 0, 0), Output: 0\n",
      "Input: (0, 1, 0, 1), Output: 0\n",
      "Input: (0, 1, 1, 0), Output: 0\n",
      "Input: (0, 1, 1, 1), Output: 0\n",
      "Input: (1, 0, 0, 0), Output: 1\n",
      "Input: (1, 0, 0, 1), Output: 0\n",
      "Input: (1, 0, 1, 0), Output: 0\n",
      "Input: (1, 0, 1, 1), Output: 0\n",
      "Input: (1, 1, 0, 0), Output: 1\n",
      "Input: (1, 1, 0, 1), Output: 0\n",
      "Input: (1, 1, 1, 0), Output: 1\n",
      "Input: (1, 1, 1, 1), Output: 0\n",
      "Number of calls needed: 16\n"
     ]
    }
   ],
   "source": [
    "import random\n",
    "\n",
    "# Total number of input combinations for 4 bits\n",
    "total_inputs = 2 ** 4\n",
    "\n",
    "# Function to generate a random function\n",
    "def generate_random_function():\n",
    "    # Generating a random 16-bit number\n",
    "    # Each bit represents the output for a particular input\n",
    "    return random.getrandbits(total_inputs)\n",
    "\n",
    "def format_binary_input(n, bits=4):\n",
    "    \"\"\" Format a number as a binary tuple with a fixed number of bits. \"\"\"\n",
    "    return tuple(int(x) for x in format(n, f'0{bits}b'))\n",
    "\n",
    "def print_function_outputs(function):\n",
    "    \"\"\" Print the outputs of the function for all 4-bit inputs. \"\"\"\n",
    "    for i in range(total_inputs):\n",
    "        input_bits = format_binary_input(i)\n",
    "        output_bit = (function >> i) & 1\n",
    "        print(f\"Input: {input_bits}, Output: {output_bit}\")\n",
    "\n",
    "# Generate a random function\n",
    "random_function = generate_random_function()\n",
    "\n",
    "# Print the outputs for the randomly generated function\n",
    "print_function_outputs(random_function)\n",
    "\n",
    "# Number of times you need to call the function to determine it\n",
    "number_of_calls = total_inputs\n",
    "\n",
    "print(\"Number of calls needed:\", number_of_calls)\n"
   ]
  },
  {
   "cell_type": "markdown",
   "metadata": {},
   "source": [
    "---"
   ]
  },
  {
   "cell_type": "markdown",
   "metadata": {},
   "source": [
    "# Task 4: Multiplying Matrices in Python\n",
    "## Date: 22-11-2023\n",
    "### Author: Hong Wei Phang\n",
    "\n",
    "## The Task:\n",
    "Write a function that performs matrix multiplication on two rectangular lists containing floats in Python.\n",
    "\n",
    "\n",
    "## Understanding Matrix Multiplication\n",
    "\n",
    "- Matrix multiplication involves two matrices, A and B. The number of columns in A must be equal to the number of rows in B.\n",
    "- The resultant matrix, C, will have dimensions determined by the number of rows in A and the number of columns in B.\n",
    "- Each element $C_{ij}$ of the resulting matrix is calculated as the sum of the products of the corresponding elements from the i-th row of A and the j-th column of B.\n",
    "\n",
    "## Python Implementation\n",
    "\n",
    "### Initialization\n",
    "- Matrices are represented in Python as lists of lists, with each inner list representing a row.\n",
    "- Initialize the result matrix C with dimensions equal to the number of rows in A and the number of columns in B, with all elements set to 0.\n",
    "\n",
    "### Nested Loops for Multiplication\n",
    "- Use three nested loops:\n",
    "  - The outer loop iterates through each row of A.\n",
    "  - The middle loop iterates through each column of B.\n",
    "  - The inner loop iterates through each element of the row of A and the corresponding element of the column of B, multiplying them together and adding the result to form an element in C.\n",
    "\n",
    "### Element-wise Multiplication and Sum\n",
    "- For each pair of indices (i, j), calculate the sum of the products of corresponding elements as $C_{ij} = \\sum (A_{ik} * B_{kj})$ for all k.\n",
    "\n",
    "### Error Handling\n",
    "- Ensure the dimensions of A and B are compatible for multiplication. If not, raise an error.\n",
    "\n",
    "## Example and Demonstration\n"
   ]
  },
  {
   "cell_type": "code",
   "execution_count": 1,
   "metadata": {},
   "outputs": [
    {
     "name": "stdout",
     "output_type": "stream",
     "text": [
      "Resultant Matrix:\n",
      "[19.0, 22.0]\n",
      "[43.0, 50.0]\n"
     ]
    }
   ],
   "source": [
    "def matrix_multiply(A, B):\n",
    "    # Check if multiplication is possible\n",
    "    if len(A[0]) != len(B):\n",
    "        raise ValueError(\"Number of columns in A must be equal to number of rows in B\")\n",
    "\n",
    "    # Initialize result matrix with zeros\n",
    "    result = [[0 for _ in range(len(B[0]))] for _ in range(len(A))]\n",
    "\n",
    "    # Perform matrix multiplication\n",
    "    for i in range(len(A)):\n",
    "        for j in range(len(B[0])):\n",
    "            for k in range(len(B)):\n",
    "                result[i][j] += A[i][k] * B[k][j]\n",
    "\n",
    "    return result\n",
    "\n",
    "# Example usage\n",
    "A = [[1.0, 2.0], [3.0, 4.0]]\n",
    "B = [[5.0, 6.0], [7.0, 8.0]]\n",
    "\n",
    "try:\n",
    "    C = matrix_multiply(A, B)\n",
    "    print(\"Resultant Matrix:\")\n",
    "    for row in C:\n",
    "        print(row)\n",
    "except ValueError as e:\n",
    "    print(e)\n"
   ]
  },
  {
   "cell_type": "markdown",
   "metadata": {},
   "source": [
    "This function takes two matrices A and B as input and returns their product. It assumes that the input matrices are correctly formatted (i.e., each row has the same number of columns). The function raises a ValueError if the matrices cannot be multiplied due to dimensional mismatch."
   ]
  },
  {
   "cell_type": "markdown",
   "metadata": {},
   "source": [
    "---\n",
    "\n",
    "# End of Assignment"
   ]
  }
 ],
 "metadata": {
  "kernelspec": {
   "display_name": "base",
   "language": "python",
   "name": "python3"
  },
  "language_info": {
   "codemirror_mode": {
    "name": "ipython",
    "version": 3
   },
   "file_extension": ".py",
   "mimetype": "text/x-python",
   "name": "python",
   "nbconvert_exporter": "python",
   "pygments_lexer": "ipython3",
   "version": "3.9.13"
  },
  "orig_nbformat": 4
 },
 "nbformat": 4,
 "nbformat_minor": 2
}
