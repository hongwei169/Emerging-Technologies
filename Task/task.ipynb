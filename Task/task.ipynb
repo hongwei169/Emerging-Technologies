{
 "cells": [
  {
   "cell_type": "markdown",
   "metadata": {},
   "source": [
    "# Title: Collatz Conjecture\n",
    "## Date: 28 September 2023\n",
    "### Author: Hong Wei Phang\n",
    "\n",
    "### Introduction:\n",
    "The Collatz conjecture is a famous unsolved problem in mathematics. The problem is to prove that if you start with any positive integer x and repeatedly apply the function f(x) below, you always get to 1 eventually.\n",
    "![Figure 1](image.png)\n",
    "\n",
    "For example, starting with the value  10, which is an even number, we divide it by 2 to get 5. We repeat the process, and since 5 is odd, we multiply by 3 and add 1 to get 16. We divide by 2 successively to get 8, 4, 2 and 1. We needed to multiply by 3 and add 1 only once, but it is possible that f(x) will need to be applied more than once to some numbers, for example f(15) = 46, f(46) = 23.\n",
    "### Problem Statement:\n",
    "-Using Python to verify, that the Collatz conjecture is true for all integers between 1 and 1000000.\n",
    "\n",
    "### Import necessary libraries (if any):\n",
    "```python\n",
    "# import numpy as np\n",
    "# import matplotlib.pyplot as plt\n"
   ]
  },
  {
   "cell_type": "code",
   "execution_count": 2,
   "metadata": {},
   "outputs": [
    {
     "name": "stdout",
     "output_type": "stream",
     "text": [
      "The Collatz conjecture is true for all numbers in the specified range.\n"
     ]
    }
   ],
   "source": [
    "def collatz_sequence(n):\n",
    "    sequence = [n]\n",
    "    while n != 1:\n",
    "        if n % 2 == 0:\n",
    "            n = n // 2\n",
    "        else:\n",
    "            n = 3 * n + 1\n",
    "        sequence.append(n)\n",
    "    return sequence\n",
    "\n",
    "def verify_collatz_conjecture(start, end):\n",
    "    failed_cases = []\n",
    "    for num in range(start, end + 1):\n",
    "        sequence = collatz_sequence(num)\n",
    "        if sequence[-1] != 1:\n",
    "            failed_cases.append(num)\n",
    "    return failed_cases\n",
    "\n",
    "# Define the range you want to check\n",
    "start_number = 1\n",
    "end_number = 1000  # You can adjust this range as needed\n",
    "\n",
    "failed_cases = verify_collatz_conjecture(start_number, end_number)\n",
    "\n",
    "if not failed_cases:\n",
    "    print(\"The Collatz conjecture is true for all numbers in the specified range.\")\n",
    "else:\n",
    "    print(\"The Collatz conjecture is not true for the following numbers:\")\n",
    "    print(failed_cases)\n"
   ]
  }
 ],
 "metadata": {
  "kernelspec": {
   "display_name": "base",
   "language": "python",
   "name": "python3"
  },
  "language_info": {
   "codemirror_mode": {
    "name": "ipython",
    "version": 3
   },
   "file_extension": ".py",
   "mimetype": "text/x-python",
   "name": "python",
   "nbconvert_exporter": "python",
   "pygments_lexer": "ipython3",
   "version": "3.9.13"
  },
  "orig_nbformat": 4
 },
 "nbformat": 4,
 "nbformat_minor": 2
}
