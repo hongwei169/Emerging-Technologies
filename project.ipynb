{
 "cells": [
  {
   "cell_type": "markdown",
   "metadata": {},
   "source": [
    "# Section 1: Introduction to Deutsch's Algorithm\n",
    "\n",
    "Quantum computing represents a revolutionary approach to computation, harnessing quantum mechanics to achieve processing power beyond the capabilities of classical computers. A quantum bit, or qubit, is the fundamental unit of quantum information, analogous to a bit in classical computing. Unlike bits, which are binary, qubits can exist in multiple states simultaneously due to the principle of superposition.\n",
    "\n",
    "In 1985, David Deutsch proposed what is now known as Deutsch's Algorithm, which addressed a simple problem through a quantum lens: determining if a hidden binary function is constant (the same output for all inputs) or balanced (outputs half 0s and half 1s). Classical logic dictates that two queries to the function are needed to determine this, but Deutsch's Algorithm could ascertain the answer with a single quantum operation.\n",
    "\n",
    "This algorithm not only marked the inception of quantum algorithms but also laid the groundwork for quantum computational theory, influencing the development of more sophisticated algorithms. It uses quantum gates to manipulate qubits, exploiting superposition and interference, and culminates in a measurement that, counterintuitively, provides complete information about the global nature of the function.\n",
    "\n",
    "In this section, we will explore the origins and implications of Deutsch's Algorithm, understand the fundamental quantum computing concepts it employs, and prepare to delve into its implementation with Qiskit.\n",
    "\n",
    "## Expanded References for Introduction Section:\n",
    "\n",
    "1. Deutsch, D. (1985). Quantum theory, the Church-Turing principle and the universal quantum computer. *Proceedings of the Royal Society of London. Series A. Mathematical and Physical Sciences*, 400(1818), 97–117.\n",
    "2. Nielsen, M. A., & Chuang, I. L. (2010). *Quantum Computation and Quantum Information*. Cambridge University Press.\n",
    "3. Mermin, N. D. (2007). *Quantum Computer Science: An Introduction*. Cambridge University Press.\n",
    "4. Jozsa, R., & Linden, N. (2003). On the role of entanglement in quantum-computational speed-up. *Proceedings of the Royal Society of London. Series A: Mathematical, Physical and Engineering Sciences*, 459(2036), 2011-2032.\n",
    "5. Shor, P. W. (1997). Polynomial-Time Algorithms for Prime Factorization and Discrete Logarithms on a Quantum Computer. *SIAM Journal on Computing*, 26(5), 1484–1509.\n"
   ]
  },
  {
   "cell_type": "markdown",
   "metadata": {},
   "source": [
    "# Section 2: Detailed Explanation of Deutsch's Algorithm\n",
    "\n",
    "Deutsch's Algorithm solves a specific problem in quantum computation known as the Deutsch problem. It determines if a given quantum function, encoded as an oracle, is constant or balanced with only one query. This contrasts with the classical approach, which requires checking both possible inputs.\n",
    "\n",
    "The algorithm uses the following steps:\n",
    "\n",
    "1. Initialize the qubits: Start with two qubits, the first in state `|0⟩` and the second in state `|1⟩`.\n",
    "\n",
    "2. Apply Hadamard gates: Apply a Hadamard gate to both qubits to create a superposition of states.\n",
    "\n",
    "3. Apply the oracle: Introduce the quantum oracle, which performs a specific unitary transformation based on the function being evaluated.\n",
    "\n",
    "4. Apply Hadamard gate again: Apply another Hadamard gate to the first qubit, which leads to interference patterns that are key to the algorithm.\n",
    "\n",
    "5. Measure the first qubit: The measurement will collapse the first qubit into one of the basis states, `|0⟩` or `|1⟩`, indicating whether the function is constant or balanced.\n",
    "\n",
    "The quantum oracle is the heart of the algorithm. It is a black box that performs a specific transformation on the qubits. For a constant function, it leaves them unchanged or flips them both. For a balanced function, it flips the second qubit conditional on the first qubit being in state `|1⟩`.\n",
    "\n",
    "Here is a table illustrating the function types and their outputs:\n",
    "\n",
    "| Function Type    | $x=0$ | $x=1$ | \n",
    "| ---------------- | ----- | ----- |\n",
    "| Constant (0)     | 0     | 0     | \n",
    "| Constant (1)     | 1     | 1     | \n",
    "| Balanced (0 ↦ 1) | 0     | 1     | \n",
    "| Balanced (1 ↦ 0) | 1     | 0     |\n",
    "\n",
    "\n",
    "\n",
    "\n"
   ]
  },
  {
   "cell_type": "code",
   "execution_count": 1,
   "metadata": {},
   "outputs": [
    {
     "name": "stderr",
     "output_type": "stream",
     "text": [
      "c:\\Users\\LENOVO\\anaconda3\\lib\\site-packages\\qiskit\\visualization\\circuit\\matplotlib.py:266: FutureWarning: The default matplotlib drawer scheme will be changed to \"iqp\" in a following release. To silence this warning, specify the current default explicitly as style=\"clifford\", or the new default as style=\"iqp\".\n",
      "  self._style, def_font_ratio = load_style(self._style)\n"
     ]
    },
    {
     "data": {
      "image/png": "[encoded data removed]",
      "text/plain": [
       "<Figure size 538.128x284.278 with 1 Axes>"
      ]
     },
     "execution_count": 1,
     "metadata": {},
     "output_type": "execute_result"
    }
   ],
   "source": [
    "# Importing libraries for generating the circuits\n",
    "import numpy as np\n",
    "from qiskit import QuantumCircuit\n",
    "from qiskit import Aer, transpile\n",
    "from qiskit.tools.visualization import plot_histogram, plot_state_city\n",
    "import qiskit.quantum_info as qi\n",
    "\n",
    "# Function to create a quantum circuit for Deutsch's Algorithm\n",
    "def deutsch_circuit(oracle):\n",
    "    qc = QuantumCircuit(2, 1)  # 2 qubits and 1 classical bit for measurement\n",
    "\n",
    "    # Apply Hadamard gates to both qubits\n",
    "    qc.h([0, 1])\n",
    "\n",
    "    # Apply the oracle\n",
    "    qc.append(oracle, [0, 1])\n",
    "\n",
    "    # Apply another Hadamard gate to the first qubit\n",
    "    qc.h(0)\n",
    "\n",
    "    # Measure the first qubit\n",
    "    qc.measure(0, 0)\n",
    "\n",
    "    return qc\n",
    "\n",
    "# Define an example oracle\n",
    "example_oracle = QuantumCircuit(2)\n",
    "# Here you can add operations to example_oracle to represent a specific function\n",
    "# For example, let's add a CNOT gate for demonstration\n",
    "example_oracle.cx(0, 1)\n",
    "\n",
    "# Create the circuit\n",
    "qc = deutsch_circuit(example_oracle)\n",
    "\n",
    "# Draw the circuit\n",
    "qc.draw(output='mpl')\n"
   ]
  },
  {
   "cell_type": "markdown",
   "metadata": {},
   "source": [
    "In the simulation section, we will see how these theoretical steps translate into a quantum circuit and how the measurement confirms the nature of the oracle's function.\n",
    "\n",
    "## References for Detailed Explanation Section:\n",
    "\n",
    "1. Deutsch, D. (1985). Quantum theory, the Church-Turing principle and the universal quantum computer. *Proceedings of the Royal Society of London. Series A. Mathematical and Physical Sciences*, 400(1818), 97–117.\n",
    "2. Cleve, R., Ekert, A., Macchiavello, C., & Mosca, M. (1998). Quantum algorithms revisited. *Proceedings of the Royal Society of London. Series A: Mathematical, Physical and Engineering Sciences*, 454(1969), 339-354."
   ]
  }
 ],
 "metadata": {
  "kernelspec": {
   "display_name": "base",
   "language": "python",
   "name": "python3"
  },
  "language_info": {
   "codemirror_mode": {
    "name": "ipython",
    "version": 3
   },
   "file_extension": ".py",
   "mimetype": "text/x-python",
   "name": "python",
   "nbconvert_exporter": "python",
   "pygments_lexer": "ipython3",
   "version": "3.9.13"
  }
 },
 "nbformat": 4,
 "nbformat_minor": 2
}
