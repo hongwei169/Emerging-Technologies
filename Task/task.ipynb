{
 "cells": [
  {
   "cell_type": "markdown",
   "metadata": {},
   "source": [
    "# Title: Collatz Conjecture\n",
    "## Date: 28 September 2023\n",
    "### Author: Hong Wei Phang\n",
    "\n",
    "### Introduction:\n",
    "The Collatz conjecture is a famous unsolved problem in mathematics. The problem is to prove that if you start with any positive integer x and repeatedly apply the function f(x) below, you always get to 1 eventually.\n",
    "![Figure 1](image.png)\n",
    "\n",
    "For example, starting with the value  10, which is an even number, we divide it by 2 to get 5. We repeat the process, and since 5 is odd, we multiply by 3 and add 1 to get 16. We divide by 2 successively to get 8, 4, 2 and 1. We needed to multiply by 3 and add 1 only once, but it is possible that f(x) will need to be applied more than once to some numbers, for example f(15) = 46, f(46) = 23.\n",
    "### Problem Statement:\n",
    "-Using Python to verify, that the Collatz conjecture is true for all integers between 1 and 1000000.\n",
    "\n",
    "### Import necessary libraries (if any):\n",
    "```python\n",
    "# import numpy as np\n",
    "# import matplotlib.pyplot as plt\n"
   ]
  },
  {
   "cell_type": "code",
   "execution_count": null,
   "metadata": {},
   "outputs": [
    {
     "name": "stdout",
     "output_type": "stream",
     "text": [
      "The Collatz conjecture is true for all numbers in the specified range.\n"
     ]
    }
   ],
   "source": [
    "def collatz_sequence(n):\n",
    "    sequence = [n]\n",
    "    while n != 1:\n",
    "        if n % 2 == 0:\n",
    "            n = n // 2\n",
    "        else:\n",
    "            n = 3 * n + 1\n",
    "        sequence.append(n)\n",
    "    return sequence\n",
    "\n",
    "def verify_collatz_conjecture(start, end):\n",
    "    failed_cases = []\n",
    "    for num in range(start, end + 1):\n",
    "        sequence = collatz_sequence(num)\n",
    "        if sequence[-1] != 1:\n",
    "            failed_cases.append(num)\n",
    "    return failed_cases\n",
    "\n",
    "# Define the range you want to check\n",
    "start_number = 1\n",
    "end_number = 1000  # You can adjust this range as needed\n",
    "\n",
    "failed_cases = verify_collatz_conjecture(start_number, end_number)\n",
    "\n",
    "if not failed_cases:\n",
    "    print(\"The Collatz conjecture is true for all numbers in the specified range.\")\n",
    "else:\n",
    "    print(\"The Collatz conjecture is not true for the following numbers:\")\n",
    "    print(failed_cases)\n"
   ]
  },
  {
   "cell_type": "markdown",
   "metadata": {},
   "source": [
    "#### Collatz Conjecture Verification Code Explanation\n",
    "\n",
    "##### `collatz_sequence(n)` Function:\n",
    "\n",
    "- This function generates the Collatz sequence starting from a given number `n`.\n",
    "- It utilizes a `while` loop to repeatedly apply the Collatz rules until the sequence reaches 1.\n",
    "- The sequence is stored in a list, and the function returns this list.\n",
    "\n",
    "##### `verify_collatz_conjecture(start, end)` Function:\n",
    "\n",
    "- This function checks the Collatz conjecture for a specified range of numbers, defined by `start` and `end`.\n",
    "- It initializes an empty list to collect cases where the conjecture fails.\n",
    "- It iterates through the range, generates the Collatz sequence for each number, and examines whether the last number in the sequence is not 1. If the last number is not 1, it means the conjecture fails for that number, and it is added to the list of failed cases.\n",
    "- The function returns the list of failed cases.\n",
    "\n",
    "##### `start_number` and `end_number`:\n",
    "\n",
    "- These variables specify the range of numbers to be checked for the Collatz conjecture. In the provided code, the range is set to verify the conjecture for numbers between 1 and 1000.\n",
    "\n",
    "##### Execution:\n",
    "\n",
    "- The code executes the `verify_collatz_conjecture` function with the defined range.\n",
    "- It checks if there are any failed cases and prints the results accordingly. If there are no failed cases, it indicates that the Collatz conjecture holds true for all numbers in the specified range. If there are failed cases, it lists those numbers for which the conjecture does not hold.\n"
   ]
  },
  {
   "attachments": {
    "image.png": {
     "image/png": "[encoded data removed]"
    }
   },
   "cell_type": "markdown",
   "metadata": {},
   "source": [
    "# Title: Calculating square roots\n",
    "## Date: 22 October 2023\n",
    "### Author: Hong Wei Phang\n",
    "\n",
    "### Introduction:\n",
    "Square roots are difficult to calculate. In Python, you typically use the power operator (a double asterisk) or a package such as math. \n",
    "\n",
    "\n",
    "\n",
    "### Problem Statement:\n",
    "-write a function sqrt(x) to approximate the square root of a floating point number x without using the power operator or a package. Rather, you should use the Newton’s method. Start with an Initial guess for the square root called z0. You then repeatedly apply the following formula. until the difference between some previous guess zi and the next zi+1\n",
    "\n",
    "![image.png](attachment:image.png)\n",
    "\n",
    "### Import necessary libraries (if any):\n",
    "```python\n",
    "# import numpy as np\n",
    "# import matplotlib.pyplot as plt\n"
   ]
  },
  {
   "cell_type": "code",
   "execution_count": 7,
   "metadata": {},
   "outputs": [
    {
     "name": "stdout",
     "output_type": "stream",
     "text": [
      "Approximate square root of 16.0 is 4.000000\n",
      "Approximate square root of 8.0 is 2.828427\n",
      "Approximate square root of 0.0001 is 0.010000\n"
     ]
    }
   ],
   "source": [
    "def sqrt(x, z0=1.0, tolerance=1e-6, max_iterations=100):\n",
    "    \"\"\"\n",
    "    Approximate the square root of a number using Newton's method.\n",
    "\n",
    "    Args:\n",
    "    x (float): The number for which to find the square root.\n",
    "    z0 (float): Initial guess for the square root (default is 1.0).\n",
    "    tolerance (float): The desired level of accuracy (default is 1e-6).\n",
    "    max_iterations (int): Maximum number of iterations (default is 100).\n",
    "\n",
    "    Returns:\n",
    "    float: The approximate square root of x.\n",
    "    \"\"\"\n",
    "    z = z0\n",
    "    for i in range(max_iterations):\n",
    "        z_next = 0.5 * (z + x / z)  # Newton's method formula\n",
    "        if abs(z_next - z) < tolerance:\n",
    "            return z_next\n",
    "        z = z_next\n",
    "    return z  # Return the best approximation found\n",
    "\n",
    "# Example usage:\n",
    "x = 16.0\n",
    "approx_root = sqrt(x)\n",
    "print(f\"Approximate square root of {x} is {approx_root:.6f}\")\n",
    "\n",
    "x = 8.0\n",
    "approx_root = sqrt(x)\n",
    "print(f\"Approximate square root of {x} is {approx_root:.6f}\")\n",
    "\n",
    "x = 0.0001\n",
    "approx_root = sqrt(x)\n",
    "print(f\"Approximate square root of {x} is {approx_root:.6f}\")\n"
   ]
  },
  {
   "cell_type": "markdown",
   "metadata": {},
   "source": [
    "#### `sqrt` Function Summary\n",
    "\n",
    "The `sqrt` function is used to approximate the square root of a number using Newton's method. It takes the following parameters:\n",
    "\n",
    "- `x`: The number for which to find the square root.\n",
    "- `z0`: An initial guess for the square root (default is 1.0).\n",
    "- `tolerance`: The desired level of accuracy (default is 1e-6).\n",
    "- `max_iterations`: The maximum number of iterations (default is 100).\n",
    "\n",
    "The function iteratively applies Newton's method formula to improve the approximation of the square root.\n",
    "\n",
    "It checks if the absolute difference between the current guess `z` and the next guess `z_next` is smaller than the specified tolerance. If the condition is met, the function returns the approximation as accurate as possible. If the maximum number of iterations is reached without achieving the desired accuracy, it returns the best approximation found thus far.\n",
    "\n",
    "#### Example Usage\n",
    "\n",
    "To approximate the square root of a given number, you can use the `sqrt` function by specifying the value of `x`. For instance:\n",
    "\n",
    "```python\n",
    "x = 16.0\n",
    "approx_root = sqrt(x)\n",
    "print(f\"Approximate square root of {x} is {approx_root:.6f}\")\n"
   ]
  }
 ],
 "metadata": {
  "kernelspec": {
   "display_name": "base",
   "language": "python",
   "name": "python3"
  },
  "language_info": {
   "codemirror_mode": {
    "name": "ipython",
    "version": 3
   },
   "file_extension": ".py",
   "mimetype": "text/x-python",
   "name": "python",
   "nbconvert_exporter": "python",
   "pygments_lexer": "ipython3",
   "version": "3.9.13"
  },
  "orig_nbformat": 4
 },
 "nbformat": 4,
 "nbformat_minor": 2
}
